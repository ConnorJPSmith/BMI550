{
 "cells": [
  {
   "cell_type": "markdown",
   "metadata": {},
   "source": [
    "Connor Smith\n",
    "BMI 550, F17\n",
    "HW 3 - late submission"
   ]
  },
  {
   "cell_type": "markdown",
   "metadata": {},
   "source": [
    "First, we set up our data"
   ]
  },
  {
   "cell_type": "code",
   "execution_count": 21,
   "metadata": {},
   "outputs": [
    {
     "name": "stdout",
     "output_type": "stream",
     "text": [
      "['ATTDEWKKQRKDSHKEVERRRRENINTAINVLSDLLPVRESSKAAILACAAEYIQKLKETDEANIEKWTLQKLLSEQNASQLASANEKLQEELGNAYKEIEYMKRVLRK----------', 'HGSEEWHRQRRENHKEVERKRRESINTGIRELARLIPTTDTNKAQILQRAVEYIKRLKENENNNIEKWTLEKLLTEQAVSELSASNEKLKHELESAYREIEQLKRGKK-----------', 'TGSTAWKQQRKESHKEVERRRRQNINTAIEKLSDLLPVKETSKAAILSRAAEYIQKMKETETANIEKWTLQKLLGEQQVSSLTSANDKLEQELSKAYKNLQELKKKLKEAGIEDPTEEE']\n"
     ]
    }
   ],
   "source": [
    "#SETUP\n",
    "\n",
    "import math\n",
    "\n",
    "#create list for sequences\n",
    "seq_list = []\n",
    "\n",
    "#open doc\n",
    "file_in = open('hw3.txt')\n",
    "\n",
    "#iterate through each line\n",
    "for seq in file_in.read().split('\\n'):\n",
    "    # check to see length\n",
    "    if len(seq) > 0:\n",
    "        #add to seq_list if results\n",
    "        seq_list.append(seq)\n",
    "\n",
    "print(seq_list)\n",
    "\n",
    "#close doc\n",
    "file_in.close()"
   ]
  },
  {
   "cell_type": "markdown",
   "metadata": {},
   "source": [
    "Next, we iterate over our sequences"
   ]
  },
  {
   "cell_type": "code",
   "execution_count": 27,
   "metadata": {},
   "outputs": [
    {
     "name": "stdout",
     "output_type": "stream",
     "text": [
      "Entropy score of MSA: 22.88703338685735\n"
     ]
    }
   ],
   "source": [
    "# Entropy Calculation\n",
    "\n",
    "# Find number of sequences\n",
    "num_seq = len(seq_list)\n",
    "# Find length of MSA\n",
    "seq_length = len(seq_list[0])\n",
    "\n",
    "# Intialize Entropy Score\n",
    "entropy_val = 0\n",
    "\n",
    "#interate through each column\n",
    "for col_idx in range(0,seq_length):\n",
    "    # fill temporary list with value from each seq in column\n",
    "    col_vals_temp = []\n",
    "    for row_idx in range(0,num_seq):\n",
    "        col_vals_temp.append(seq_list[row_idx][col_idx])\n",
    "    # create set of unique values in column\n",
    "    col_vals_set = set(col_vals_temp)\n",
    "    # placeholder for column score\n",
    "    col_score = 0\n",
    "    # count how many times each one appears, calculate entropy an add to score\n",
    "    for val in col_vals_set:\n",
    "        # times in column\n",
    "        times_in_col = col_vals_temp.count(val)\n",
    "        # temp score\n",
    "        score_temp = -(times_in_col/num_seq)*math.log10(times_in_col/num_seq)\n",
    "        col_score += score_temp\n",
    "    # add column score to entropy calc\n",
    "    entropy_val += col_score\n",
    "\n",
    "# Return result to screen\n",
    "print(\"Entropy score of MSA: \"+str(entropy_val))"
   ]
  },
  {
   "cell_type": "markdown",
   "metadata": {},
   "source": [
    "Next, we will calculate the pairwise scores based on the blosum62 matrix"
   ]
  },
  {
   "cell_type": "code",
   "execution_count": 72,
   "metadata": {},
   "outputs": [
    {
     "name": "stdout",
     "output_type": "stream",
     "text": [
      "{(0, 1): 303, (0, 2): 337, (1, 2): 275}\n",
      "Pairwise for Seq1 and Seq2: 303\n",
      "Pairwise for Seq1 and Seq3: 337\n",
      "Pairwise for Seq2 and Seq3: 275\n"
     ]
    }
   ],
   "source": [
    "# Pairwise scoring\n",
    "\n",
    "# Create scoring matrix using pandas\n",
    "import pandas\n",
    "# i first converted the scoring matrix from a text file to csv using excel\n",
    "# mostly because I forgot how to properly do it\n",
    "blosum62_file = open('blosum62.csv')\n",
    "blosum62_matrix = pandas.read_csv(blosum62_file, index_col =0)\n",
    "\n",
    "#create tuples of unique pairwise\n",
    "pairwise_combos = []\n",
    "for i in range(0,num_seq):\n",
    "    for j in range(0,num_seq):\n",
    "        # add combo to \n",
    "        pairwise_combos.append(sorted([i,j]))\n",
    "# remove duplicates of combos\n",
    "pairwise_unique = []\n",
    "for item in pairwise_combos:\n",
    "    if (item not in pairwise_unique and item[0] != item[1]):\n",
    "        pairwise_unique.append(tuple(item))\n",
    "\n",
    "#create dictionary of scores for comparisons\n",
    "pairwise_scores = {}\n",
    "#iterate through unique pairwise combos\n",
    "for pw in pairwise_unique:\n",
    "    pair_score = 0\n",
    "    #iterate through each column\n",
    "    for col_idx in range(0,seq_length):\n",
    "        blosum_score = 0\n",
    "        #check to see if both are a gap\n",
    "        if (seq_list[pw[0]][col_idx] == '-' and seq_list[pw[1]][col_idx] == '-'):\n",
    "            # do not score this column\n",
    "            blosum_score = 0\n",
    "        else:\n",
    "            #score this column\n",
    "            # note: the matrix uses the * symbol for a gap, so i must substitute in my string call\n",
    "            seq1_val = seq_list[pw[0]][col_idx]\n",
    "            seq2_val = seq_list[pw[1]][col_idx]\n",
    "            blosum_score = blosum62_matrix[seq1_val.replace('-','*')][seq2_val.replace('-','*')]\n",
    "        #add values from column to score\n",
    "        pair_score += blosum_score\n",
    "    # store scores for each pair in dictionary\n",
    "    pairwise_scores[pw] = pair_score\n",
    "#print results of each pair\n",
    "for key,item in pairwise_scores.items():\n",
    "    print(\"Pairwise for Seq\" + str(key[0]+1) + \" and Seq\" + str(key[1]+1) + \": \" + str(item))"
   ]
  },
  {
   "cell_type": "code",
   "execution_count": null,
   "metadata": {
    "collapsed": true
   },
   "outputs": [],
   "source": []
  }
 ],
 "metadata": {
  "kernelspec": {
   "display_name": "Python 3",
   "language": "python",
   "name": "python3"
  },
  "language_info": {
   "codemirror_mode": {
    "name": "ipython",
    "version": 3
   },
   "file_extension": ".py",
   "mimetype": "text/x-python",
   "name": "python",
   "nbconvert_exporter": "python",
   "pygments_lexer": "ipython3",
   "version": "3.6.1"
  }
 },
 "nbformat": 4,
 "nbformat_minor": 2
}
