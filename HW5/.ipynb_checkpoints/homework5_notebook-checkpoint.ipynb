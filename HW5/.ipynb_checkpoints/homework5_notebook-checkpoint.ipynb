{
 "cells": [
  {
   "cell_type": "markdown",
   "metadata": {},
   "source": [
    "Connor Smith  \n",
    "BMI 550, F17  \n",
    "15 Nov 2017  \n",
    "\n",
    "# Homework 5  \n",
    "\n",
    "1) This information is stored in the @PG header tag, item PN. You can also get the command line call from item CL.  \n",
    "2) I believe that this information can be acquired from the command line call, @PG header item CL.  \n",
    "3) @SQ header, item @AS  \n",
    "4) Samtools flagstat, "
   ]
  }
 ],
 "metadata": {
  "kernelspec": {
   "display_name": "Python 3",
   "language": "python",
   "name": "python3"
  },
  "language_info": {
   "codemirror_mode": {
    "name": "ipython",
    "version": 3
   },
   "file_extension": ".py",
   "mimetype": "text/x-python",
   "name": "python",
   "nbconvert_exporter": "python",
   "pygments_lexer": "ipython3",
   "version": "3.6.1"
  }
 },
 "nbformat": 4,
 "nbformat_minor": 2
}
